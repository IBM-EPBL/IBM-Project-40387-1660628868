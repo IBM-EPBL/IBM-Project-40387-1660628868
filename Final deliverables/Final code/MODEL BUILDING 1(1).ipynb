{
 "cells": [
  {
   "cell_type": "code",
   "execution_count": 2,
   "id": "1c8d79d3",
   "metadata": {},
   "outputs": [],
   "source": [
    "# image preprocessing\n",
    "# import the imageDataGenerator Library\n",
    "    \n",
    "from keras.preprocessing.image import ImageDataGenerator"
   ]
  },
  {
   "cell_type": "code",
   "execution_count": 3,
   "id": "49493018",
   "metadata": {},
   "outputs": [],
   "source": [
    "# configure ImageDataGenerator Class\n",
    "# image data agumentation\n",
    "train_datagen=ImageDataGenerator(rescale=1./255,shear_range=0.2,zoom_range=0.2,horizontal_flip=True)\n",
    "test_datagen=ImageDataGenerator(rescale=1./255)"
   ]
  },
  {
   "cell_type": "code",
   "execution_count": 4,
   "id": "c3f44724",
   "metadata": {},
   "outputs": [
    {
     "name": "stdout",
     "output_type": "stream",
     "text": [
      "Found 2626 images belonging to 5 classes.\n",
      "Found 1055 images belonging to 5 classes.\n"
     ]
    }
   ],
   "source": [
    "# Apply imagedatagenerator functionality to trainset and testset\n",
    "# loading our data and performing data augumentation\n",
    "x_train=train_datagen.flow_from_directory(r'C:\\Users\\ELCOT\\Desktop\\IBM dataset\\Dataset Collection\\trainset',target_size=(64,64),batch_size=5,color_mode='rgb',class_mode='sparse')\n",
    "x_test = train_datagen.flow_from_directory(r'C:\\Users\\ELCOT\\Desktop\\IBM dataset\\Dataset Collection\\testset',target_size=(64,64),batch_size=5,color_mode='rgb',class_mode='sparse')"
   ]
  },
  {
   "cell_type": "code",
   "execution_count": 5,
   "id": "27916215",
   "metadata": {},
   "outputs": [
    {
     "name": "stdout",
     "output_type": "stream",
     "text": [
      "{'APPLES': 0, 'BANANA': 1, 'ORANGE': 2, 'PINEAPPLE': 3, 'WATERMELON': 4}\n"
     ]
    }
   ],
   "source": [
    "print(x_train.class_indices)"
   ]
  },
  {
   "cell_type": "code",
   "execution_count": 6,
   "id": "107d65e8",
   "metadata": {},
   "outputs": [
    {
     "name": "stdout",
     "output_type": "stream",
     "text": [
      "{'APPLES': 0, 'BANANA': 1, 'ORANGE': 2, 'PINEAPPLE': 3, 'WATERMELON': 4}\n"
     ]
    }
   ],
   "source": [
    "print(x_test.class_indices)"
   ]
  },
  {
   "cell_type": "code",
   "execution_count": 7,
   "id": "d34b99cf",
   "metadata": {},
   "outputs": [
    {
     "data": {
      "text/plain": [
       "Counter({0: 606, 1: 445, 2: 479, 3: 621, 4: 475})"
      ]
     },
     "execution_count": 7,
     "metadata": {},
     "output_type": "execute_result"
    }
   ],
   "source": [
    "from collections import Counter as c\n",
    "c(x_train.labels)"
   ]
  },
  {
   "cell_type": "code",
   "execution_count": 8,
   "id": "b379a03b",
   "metadata": {},
   "outputs": [],
   "source": [
    "#MODEL BUILDING\n",
    "#Importing the model building libraries\n",
    "\n",
    "#importing neccessary libraries \n",
    "import numpy as np\n",
    "import pandas as pd\n",
    "import tensorflow\n",
    "import tensorflow as tf\n",
    "from sklearn.model_selection import train_test_split\n",
    "from tensorflow import keras\n",
    "from tensorflow.keras.models import Sequential\n",
    "from tensorflow.keras.layers import Activation, Dense, Flatten, BatchNormalization, Conv2D, MaxPool2D, Dropout\n",
    "from tensorflow.keras.optimizers import Adam\n",
    "from tensorflow.keras.metrics import categorical_crossentropy\n",
    "from sklearn.metrics import confusion_matrix\n",
    "from keras.preprocessing.image import ImageDataGenerator\n",
    "from tensorflow.keras import layers\n",
    "from keras.layers import Dense\n",
    "from keras.layers import Convolution2D\n",
    "from keras.layers import MaxPooling2D\n",
    "from keras.layers import Flatten\n"
   ]
  },
  {
   "cell_type": "code",
   "execution_count": 9,
   "id": "10a07a82",
   "metadata": {},
   "outputs": [],
   "source": [
    "#initializing the model\n",
    "model = Sequential()"
   ]
  },
  {
   "cell_type": "code",
   "execution_count": 10,
   "id": "7528cd3e",
   "metadata": {},
   "outputs": [],
   "source": [
    "#adding cnn layers\n",
    "#creating the model\n",
    "#first convolution layer and pooling\n",
    "model.add(Convolution2D(32,(3,3),input_shape=(64,64,3),activation=\"relu\"))\n",
    "   "
   ]
  },
  {
   "cell_type": "code",
   "execution_count": 11,
   "id": "42d5c3c8",
   "metadata": {},
   "outputs": [],
   "source": [
    "model.add(MaxPooling2D(pool_size=(2,2)))"
   ]
  },
  {
   "cell_type": "code",
   "execution_count": 12,
   "id": "3e7b12c1",
   "metadata": {},
   "outputs": [],
   "source": [
    "#second convolution layer and pooling\n",
    "model.add(Convolution2D(32,(3,3),activation='relu'))\n",
    "model.add(MaxPooling2D(pool_size=(2,2)))"
   ]
  },
  {
   "cell_type": "code",
   "execution_count": 13,
   "id": "c71af13b",
   "metadata": {},
   "outputs": [],
   "source": [
    "#flatting the layer\n",
    "model.add(Flatten())"
   ]
  },
  {
   "cell_type": "code",
   "execution_count": 14,
   "id": "937a5d25",
   "metadata": {},
   "outputs": [],
   "source": [
    "#adding a fully connected layer\n",
    "#adding dense layers\n",
    "model.add(Dense(units=128,activation=\"relu\"))\n",
    "model.add(Dense(units=5,activation=\"softmax\"))\n",
    "   \n"
   ]
  },
  {
   "cell_type": "code",
   "execution_count": 15,
   "id": "93c7ebea",
   "metadata": {},
   "outputs": [],
   "source": [
    "model.add(Flatten())"
   ]
  },
  {
   "cell_type": "code",
   "execution_count": 16,
   "id": "00a753e6",
   "metadata": {},
   "outputs": [
    {
     "name": "stdout",
     "output_type": "stream",
     "text": [
      "Model: \"sequential\"\n",
      "_________________________________________________________________\n",
      "Layer (type)                 Output Shape              Param #   \n",
      "=================================================================\n",
      "conv2d (Conv2D)              (None, 62, 62, 32)        896       \n",
      "_________________________________________________________________\n",
      "max_pooling2d (MaxPooling2D) (None, 31, 31, 32)        0         \n",
      "_________________________________________________________________\n",
      "conv2d_1 (Conv2D)            (None, 29, 29, 32)        9248      \n",
      "_________________________________________________________________\n",
      "max_pooling2d_1 (MaxPooling2 (None, 14, 14, 32)        0         \n",
      "_________________________________________________________________\n",
      "flatten (Flatten)            (None, 6272)              0         \n",
      "_________________________________________________________________\n",
      "dense (Dense)                (None, 128)               802944    \n",
      "_________________________________________________________________\n",
      "dense_1 (Dense)              (None, 5)                 645       \n",
      "_________________________________________________________________\n",
      "flatten_1 (Flatten)          (None, 5)                 0         \n",
      "=================================================================\n",
      "Total params: 813,733\n",
      "Trainable params: 813,733\n",
      "Non-trainable params: 0\n",
      "_________________________________________________________________\n"
     ]
    }
   ],
   "source": [
    "#summary of our model\n",
    "model.summary()"
   ]
  },
  {
   "cell_type": "code",
   "execution_count": 17,
   "id": "630615d8",
   "metadata": {},
   "outputs": [],
   "source": [
    "model.add(Dense(units=300,kernel_initializer=\"random_uniform\",activation=\"relu\"))\n",
    "model.add(Dense(units=200,kernel_initializer=\"random_uniform\",activation=\"relu\"))"
   ]
  },
  {
   "cell_type": "code",
   "execution_count": 18,
   "id": "bfedf54d",
   "metadata": {},
   "outputs": [
    {
     "data": {
      "text/plain": [
       "526"
      ]
     },
     "execution_count": 18,
     "metadata": {},
     "output_type": "execute_result"
    }
   ],
   "source": [
    "model.add(Dense(units=4,kernel_initializer=\"random_uniform\",activation=\"softmax\"))\n",
    "len(x_train)\n"
   ]
  },
  {
   "cell_type": "code",
   "execution_count": 19,
   "id": "b9e0bc69",
   "metadata": {},
   "outputs": [],
   "source": [
    "model.add(Dense(units=128,activation=\"relu\",kernel_initializer=\"random_uniform\"))\n",
    "model.add(Dense(units=1,activation=\"sigmoid\",kernel_initializer=\"random_uniform\"))\n",
    "   "
   ]
  },
  {
   "cell_type": "code",
   "execution_count": 20,
   "id": "426e8277",
   "metadata": {},
   "outputs": [],
   "source": [
    "#configure the learning process\n",
    "#compiling the model\n",
    "model.compile(loss=\"binary_crossentropy\",optimizer=\"adam\",metrics=['accuracy'])\n",
    "   "
   ]
  },
  {
   "cell_type": "code",
   "execution_count": 21,
   "id": "74293601",
   "metadata": {},
   "outputs": [
    {
     "name": "stderr",
     "output_type": "stream",
     "text": [
      "C:\\Users\\ELCOT\\AppData\\Roaming\\Python\\Python39\\site-packages\\tensorflow\\python\\keras\\engine\\training.py:1935: UserWarning: `Model.fit_generator` is deprecated and will be removed in a future version. Please use `Model.fit`, which supports generators.\n",
      "  warnings.warn('`Model.fit_generator` is deprecated and '\n"
     ]
    },
    {
     "name": "stdout",
     "output_type": "stream",
     "text": [
      "Epoch 1/20\n",
      "526/526 [==============================] - 184s 340ms/step - loss: -13.1822 - accuracy: 0.1695 - val_loss: -40.1036 - val_accuracy: 0.2720\n",
      "Epoch 2/20\n",
      "526/526 [==============================] - 51s 98ms/step - loss: -87.1576 - accuracy: 0.1695 - val_loss: -152.8860 - val_accuracy: 0.2720\n",
      "Epoch 3/20\n",
      "526/526 [==============================] - 86s 163ms/step - loss: -225.4579 - accuracy: 0.1695 - val_loss: -326.7323 - val_accuracy: 0.2720\n",
      "Epoch 4/20\n",
      "526/526 [==============================] - 52s 99ms/step - loss: -420.3693 - accuracy: 0.1695 - val_loss: -556.8697 - val_accuracy: 0.2720\n",
      "Epoch 5/20\n",
      "526/526 [==============================] - 50s 96ms/step - loss: -663.4446 - accuracy: 0.1695 - val_loss: -832.5765 - val_accuracy: 0.2720\n",
      "Epoch 6/20\n",
      "526/526 [==============================] - 50s 94ms/step - loss: -951.6617 - accuracy: 0.1695 - val_loss: -1156.5981 - val_accuracy: 0.2720\n",
      "Epoch 7/20\n",
      "526/526 [==============================] - 48s 92ms/step - loss: -1281.3158 - accuracy: 0.1695 - val_loss: -1519.4242 - val_accuracy: 0.2720\n",
      "Epoch 8/20\n",
      "526/526 [==============================] - 48s 92ms/step - loss: -1648.1340 - accuracy: 0.1695 - val_loss: -1915.9342 - val_accuracy: 0.2720\n",
      "Epoch 9/20\n",
      "526/526 [==============================] - 48s 91ms/step - loss: -2047.9857 - accuracy: 0.1695 - val_loss: -2353.8726 - val_accuracy: 0.2720\n",
      "Epoch 10/20\n",
      "526/526 [==============================] - 47s 89ms/step - loss: -2486.1240 - accuracy: 0.1695 - val_loss: -2827.2893 - val_accuracy: 0.2720\n",
      "Epoch 11/20\n",
      "526/526 [==============================] - 52s 98ms/step - loss: -2960.1824 - accuracy: 0.1695 - val_loss: -3340.1543 - val_accuracy: 0.2720\n",
      "Epoch 12/20\n",
      "526/526 [==============================] - 48s 92ms/step - loss: -3466.9182 - accuracy: 0.1695 - val_loss: -3883.9753 - val_accuracy: 0.2720\n",
      "Epoch 13/20\n",
      "526/526 [==============================] - 48s 91ms/step - loss: -4007.2585 - accuracy: 0.1695 - val_loss: -4461.4424 - val_accuracy: 0.2720\n",
      "Epoch 14/20\n",
      "526/526 [==============================] - 50s 95ms/step - loss: -4579.3242 - accuracy: 0.1695 - val_loss: -5071.5942 - val_accuracy: 0.2720\n",
      "Epoch 15/20\n",
      "526/526 [==============================] - 48s 91ms/step - loss: -5182.1021 - accuracy: 0.1695 - val_loss: -5718.1929 - val_accuracy: 0.2720\n",
      "Epoch 16/20\n",
      "526/526 [==============================] - 52s 99ms/step - loss: -5815.8921 - accuracy: 0.1695 - val_loss: -6395.6113 - val_accuracy: 0.2720\n",
      "Epoch 17/20\n",
      "526/526 [==============================] - 52s 98ms/step - loss: -6484.1045 - accuracy: 0.1695 - val_loss: -7107.5474 - val_accuracy: 0.2720\n",
      "Epoch 18/20\n",
      "526/526 [==============================] - 48s 91ms/step - loss: -7184.4106 - accuracy: 0.1695 - val_loss: -7851.6514 - val_accuracy: 0.2720\n",
      "Epoch 19/20\n",
      "526/526 [==============================] - 52s 99ms/step - loss: -7918.0703 - accuracy: 0.1695 - val_loss: -8634.0469 - val_accuracy: 0.2720\n",
      "Epoch 20/20\n",
      "526/526 [==============================] - 48s 92ms/step - loss: -8680.1924 - accuracy: 0.1695 - val_loss: -9444.3408 - val_accuracy: 0.2720\n"
     ]
    },
    {
     "data": {
      "text/plain": [
       "<tensorflow.python.keras.callbacks.History at 0x205a34563d0>"
      ]
     },
     "execution_count": 21,
     "metadata": {},
     "output_type": "execute_result"
    }
   ],
   "source": [
    "#train the model\n",
    "#Fitting the model\n",
    "model.fit_generator(x_train,steps_per_epoch=len(x_train),validation_data=x_test,validation_steps=len(x_test),epochs=20)\n",
    "   "
   ]
  },
  {
   "cell_type": "code",
   "execution_count": 22,
   "id": "029f9434",
   "metadata": {},
   "outputs": [],
   "source": [
    "#saving our model\n",
    "model.save(\"nutrition.h5\")"
   ]
  },
  {
   "cell_type": "code",
   "execution_count": 23,
   "id": "75a1ae96",
   "metadata": {},
   "outputs": [],
   "source": [
    "# Test the model\\n\",\n",
    "# predicting our results \\n\",\n",
    "from tensorflow.keras.models import load_model\n",
    "from keras.preprocessing  import image\n",
    "model =load_model(\"nutrition.h5\")\n",
    "   "
   ]
  },
  {
   "cell_type": "code",
   "execution_count": 24,
   "id": "4a0c04da",
   "metadata": {},
   "outputs": [
    {
     "data": {
      "text/plain": [
       "array([0], dtype=int64)"
      ]
     },
     "execution_count": 24,
     "metadata": {},
     "output_type": "execute_result"
    }
   ],
   "source": [
    "img = image.load_img(r\"C:\\Users\\ELCOT\\Desktop\\IBM dataset\\Dataset Collection\\testset\\APPLES\\3_100.jpg\", target_size = (64, 64))\n",
    "x = image.img_to_array(img)\n",
    "x = np.expand_dims(x, axis = 0)\n",
    "predict_x=model.predict(x)\n",
    "classes_x=np.argmax(predict_x,axis = -1)\n",
    "classes_x"
   ]
  },
  {
   "cell_type": "code",
   "execution_count": 25,
   "id": "78dc07e8",
   "metadata": {},
   "outputs": [
    {
     "data": {
      "text/plain": [
       "'APPLES'"
      ]
     },
     "execution_count": 25,
     "metadata": {},
     "output_type": "execute_result"
    }
   ],
   "source": [
    "index = ['APPLES', 'BANANA', 'ORANGE', 'PINEAPPLE', 'WATERMELON']\n",
    "result=str(index[classes_x[0]])\n",
    "result"
   ]
  },
  {
   "cell_type": "code",
   "execution_count": null,
   "id": "1969745a",
   "metadata": {},
   "outputs": [],
   "source": []
  }
 ],
 "metadata": {
  "kernelspec": {
   "display_name": "Python 3 (ipykernel)",
   "language": "python",
   "name": "python3"
  },
  "language_info": {
   "codemirror_mode": {
    "name": "ipython",
    "version": 3
   },
   "file_extension": ".py",
   "mimetype": "text/x-python",
   "name": "python",
   "nbconvert_exporter": "python",
   "pygments_lexer": "ipython3",
   "version": "3.9.13"
  }
 },
 "nbformat": 4,
 "nbformat_minor": 5
}
